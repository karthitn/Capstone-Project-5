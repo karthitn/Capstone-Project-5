{
 "cells": [
  {
   "cell_type": "code",
   "execution_count": 0,
   "metadata": {
    "application/vnd.databricks.v1+cell": {
     "cellMetadata": {
      "byteLimit": 2048000,
      "rowLimit": 10000
     },
     "inputWidgets": {},
     "nuid": "af02e36b-4802-49ec-9e12-6d070e3c2811",
     "showTitle": false,
     "tableResultSettingsMap": {},
     "title": ""
    }
   },
   "outputs": [],
   "source": [
    "# Import SparkSession\n",
    "from pyspark.sql import SparkSession\n",
    "from pyspark.sql.types import DecimalType\n",
    "\n",
    "# Create SparkSession \n",
    "spark = SparkSession.builder \\\n",
    "      .master(\"local[1]\") \\\n",
    "      .appName(\"SalesDataPipeline\") \\\n",
    "      .getOrCreate() "
   ]
  },
  {
   "cell_type": "code",
   "execution_count": 0,
   "metadata": {
    "application/vnd.databricks.v1+cell": {
     "cellMetadata": {
      "byteLimit": 2048000,
      "rowLimit": 10000
     },
     "inputWidgets": {},
     "nuid": "c4c516df-bb06-4690-95d0-b01061e73975",
     "showTitle": false,
     "tableResultSettingsMap": {},
     "title": ""
    }
   },
   "outputs": [],
   "source": [
    "# Create RDD from parallelize    \n",
    "dataList = [(\"Java\", 20000), (\"Python\", 100000), (\"Scala\", 3000)]\n",
    "rdd=spark.sparkContext.parallelize(dataList)"
   ]
  },
  {
   "cell_type": "code",
   "execution_count": 0,
   "metadata": {
    "application/vnd.databricks.v1+cell": {
     "cellMetadata": {
      "byteLimit": 2048000,
      "rowLimit": 10000
     },
     "inputWidgets": {},
     "nuid": "00756b84-14ce-4366-8d98-97f7e567c4d8",
     "showTitle": false,
     "tableResultSettingsMap": {},
     "title": ""
    }
   },
   "outputs": [
    {
     "output_type": "display_data",
     "data": {
      "text/html": [
       "<style scoped>\n",
       "  .table-result-container {\n",
       "    max-height: 300px;\n",
       "    overflow: auto;\n",
       "  }\n",
       "  table, th, td {\n",
       "    border: 1px solid black;\n",
       "    border-collapse: collapse;\n",
       "  }\n",
       "  th, td {\n",
       "    padding: 5px;\n",
       "  }\n",
       "  th {\n",
       "    text-align: left;\n",
       "  }\n",
       "</style><div class='table-result-container'><table class='table-result'><thead style='background-color: white'><tr><th>path</th><th>name</th><th>size</th><th>modificationTime</th></tr></thead><tbody><tr><td>dbfs:/FileStore/tables/Customer.csv</td><td>Customer.csv</td><td>65561</td><td>1730025405000</td></tr><tr><td>dbfs:/FileStore/tables/Product.csv</td><td>Product.csv</td><td>142954</td><td>1730025405000</td></tr><tr><td>dbfs:/FileStore/tables/Sales.csv</td><td>Sales.csv</td><td>1007318</td><td>1729964837000</td></tr><tr><td>dbfs:/FileStore/tables/train.csv</td><td>train.csv</td><td>25887312</td><td>1724477699000</td></tr></tbody></table></div>"
      ]
     },
     "metadata": {
      "application/vnd.databricks.v1+output": {
       "addedWidgets": {},
       "aggData": [],
       "aggError": "",
       "aggOverflow": false,
       "aggSchema": [],
       "aggSeriesLimitReached": false,
       "aggType": "",
       "arguments": {},
       "columnCustomDisplayInfos": {},
       "data": [
        [
         "dbfs:/FileStore/tables/Customer.csv",
         "Customer.csv",
         65561,
         1730025405000
        ],
        [
         "dbfs:/FileStore/tables/Product.csv",
         "Product.csv",
         142954,
         1730025405000
        ],
        [
         "dbfs:/FileStore/tables/Sales.csv",
         "Sales.csv",
         1007318,
         1729964837000
        ],
        [
         "dbfs:/FileStore/tables/train.csv",
         "train.csv",
         25887312,
         1724477699000
        ]
       ],
       "datasetInfos": [],
       "dbfsResultPath": null,
       "isJsonSchema": true,
       "metadata": {},
       "overflow": false,
       "plotOptions": {
        "customPlotOptions": {},
        "displayType": "table",
        "pivotAggregation": null,
        "pivotColumns": null,
        "xColumns": null,
        "yColumns": null
       },
       "removedWidgets": [],
       "schema": [
        {
         "metadata": "{}",
         "name": "path",
         "type": "\"string\""
        },
        {
         "metadata": "{}",
         "name": "name",
         "type": "\"string\""
        },
        {
         "metadata": "{}",
         "name": "size",
         "type": "\"long\""
        },
        {
         "metadata": "{}",
         "name": "modificationTime",
         "type": "\"long\""
        }
       ],
       "type": "table"
      }
     },
     "output_type": "display_data"
    }
   ],
   "source": [
    "# List files in the /tmp directory in DBFS\n",
    "display(dbutils.fs.ls(\"/FileStore/tables/\"))\n",
    "#display(dbutils.fs.ls(\"dbfs:/tmp/\"))"
   ]
  },
  {
   "cell_type": "code",
   "execution_count": 0,
   "metadata": {
    "application/vnd.databricks.v1+cell": {
     "cellMetadata": {
      "byteLimit": 2048000,
      "rowLimit": 10000
     },
     "inputWidgets": {},
     "nuid": "e82d8582-c339-42b0-a5a1-02e7153c83c1",
     "showTitle": false,
     "tableResultSettingsMap": {},
     "title": ""
    }
   },
   "outputs": [
    {
     "output_type": "stream",
     "name": "stdout",
     "output_type": "stream",
     "text": [
      "root\n |-- Order Line: integer (nullable = true)\n |-- Order ID: string (nullable = true)\n |-- Order Date: date (nullable = true)\n |-- Ship Date: date (nullable = true)\n |-- Ship Mode: string (nullable = true)\n |-- Customer ID: string (nullable = true)\n |-- Product ID: string (nullable = true)\n |-- Sales: double (nullable = true)\n |-- Quantity: integer (nullable = true)\n |-- Discount: double (nullable = true)\n |-- Profit: double (nullable = true)\n\n+----------+--------------+----------+----------+--------------+-----------+---------------+--------+--------+--------+--------+\n|Order Line|      Order ID|Order Date| Ship Date|     Ship Mode|Customer ID|     Product ID|   Sales|Quantity|Discount|  Profit|\n+----------+--------------+----------+----------+--------------+-----------+---------------+--------+--------+--------+--------+\n|         1|CA-2016-152156|2016-11-08|2016-11-11|  Second Class|   CG-12520|FUR-BO-10001798|  261.96|       2|     0.0| 41.9136|\n|         2|CA-2016-152156|2016-11-08|2016-11-11|  Second Class|   CG-12520|FUR-CH-10000454|  731.94|       3|     0.0| 219.582|\n|         3|CA-2016-138688|2016-06-12|2016-06-16|  Second Class|   DV-13045|OFF-LA-10000240|   14.62|       2|     0.0|  6.8714|\n|         4|US-2015-108966|2015-10-11|2015-10-18|Standard Class|   SO-20335|FUR-TA-10000577|957.5775|       5|    0.45|-383.031|\n|         5|US-2015-108966|2015-10-11|2015-10-18|Standard Class|   SO-20335|OFF-ST-10000760|  22.368|       2|     0.2|  2.5164|\n|         6|CA-2014-115812|2014-06-09|2014-06-14|Standard Class|   BH-11710|FUR-FU-10001487|   48.86|       7|     0.0| 14.1694|\n|         7|CA-2014-115812|2014-06-09|2014-06-14|Standard Class|   BH-11710|OFF-AR-10002833|    7.28|       4|     0.0|  1.9656|\n|         8|CA-2014-115812|2014-06-09|2014-06-14|Standard Class|   BH-11710|TEC-PH-10002275| 907.152|       6|     0.2| 90.7152|\n|         9|CA-2014-115812|2014-06-09|2014-06-14|Standard Class|   BH-11710|OFF-BI-10003910|  18.504|       3|     0.2|  5.7825|\n|        10|CA-2014-115812|2014-06-09|2014-06-14|Standard Class|   BH-11710|OFF-AP-10002892|   114.9|       5|     0.0|   34.47|\n|        11|CA-2014-115812|2014-06-09|2014-06-14|Standard Class|   BH-11710|FUR-TA-10001539|1706.184|       9|     0.2| 85.3092|\n|        12|CA-2014-115812|2014-06-09|2014-06-14|Standard Class|   BH-11710|TEC-PH-10002033| 911.424|       4|     0.2| 68.3568|\n|        13|CA-2017-114412|2017-04-15|2017-04-20|Standard Class|   AA-10480|OFF-PA-10002365|  15.552|       3|     0.2|  5.4432|\n|        14|CA-2016-161389|2016-12-05|2016-12-10|Standard Class|   IM-15070|OFF-BI-10003656| 407.976|       3|     0.2|132.5922|\n|        15|US-2015-118983|2015-11-22|2015-11-26|Standard Class|   HP-14815|OFF-AP-10002311|   68.81|       5|     0.8|-123.858|\n|        16|US-2015-118983|2015-11-22|2015-11-26|Standard Class|   HP-14815|OFF-BI-10000756|   2.544|       3|     0.8|  -3.816|\n|        17|CA-2014-105893|2014-11-11|2014-11-18|Standard Class|   PK-19075|OFF-ST-10004186|  665.88|       6|     0.0| 13.3176|\n|        18|CA-2014-167164|2014-05-13|2014-05-15|  Second Class|   AG-10270|OFF-ST-10000107|    55.5|       2|     0.0|    9.99|\n|        19|CA-2014-143336|2014-08-27|2014-09-01|  Second Class|   ZD-21925|OFF-AR-10003056|    8.56|       2|     0.0|  2.4824|\n|        20|CA-2014-143336|2014-08-27|2014-09-01|  Second Class|   ZD-21925|TEC-PH-10001949|  213.48|       3|     0.2|  16.011|\n+----------+--------------+----------+----------+--------------+-----------+---------------+--------+--------+--------+--------+\nonly showing top 20 rows\n\n"
     ]
    }
   ],
   "source": [
    "# Load CSV files into DataFrames\n",
    "sales_df = spark.read.csv(\"/FileStore/tables/Sales.csv\",header=True,inferSchema=True)\n",
    "sales_df.printSchema()\n",
    "sales_df.show()"
   ]
  },
  {
   "cell_type": "code",
   "execution_count": 0,
   "metadata": {
    "application/vnd.databricks.v1+cell": {
     "cellMetadata": {
      "byteLimit": 2048000,
      "rowLimit": 10000
     },
     "inputWidgets": {},
     "nuid": "30ed4537-9aec-470a-af24-365e72a5bad4",
     "showTitle": false,
     "tableResultSettingsMap": {},
     "title": ""
    }
   },
   "outputs": [],
   "source": [
    "#dbutils.fs.mkdirs(\"/FileStore/tables\")\n",
    "#https://drive.google.com/file/d/1A0LNeOv83hjb3o5mIjQ0h2DDdpb70gz2/view?usp=drive_link\n",
    "#import gdown\n",
    "#download_url = f\"https://drive.google.com/uc?id=1A0LNeOv83hjb3o5mIjQ0h2DDdpb70gz2\"\n",
    "\n",
    "# Destination path where the file will be saved\n",
    "#output = \"/tmp/Product.csv\"\n",
    "\n",
    "# Download the file from Google Drive\n",
    "#gdown.download(download_url, output, quiet=False)"
   ]
  },
  {
   "cell_type": "code",
   "execution_count": 0,
   "metadata": {
    "application/vnd.databricks.v1+cell": {
     "cellMetadata": {
      "byteLimit": 2048000,
      "rowLimit": 10000
     },
     "inputWidgets": {},
     "nuid": "2eb6740a-a5d7-4985-b506-26187e19edb2",
     "showTitle": false,
     "tableResultSettingsMap": {},
     "title": ""
    }
   },
   "outputs": [
    {
     "output_type": "stream",
     "name": "stdout",
     "output_type": "stream",
     "text": [
      "root\n |-- Product ID: string (nullable = true)\n |-- Category: string (nullable = true)\n |-- Sub-Category: string (nullable = true)\n |-- Product Name: string (nullable = true)\n\n+---------------+---------------+------------+--------------------+\n|     Product ID|       Category|Sub-Category|        Product Name|\n+---------------+---------------+------------+--------------------+\n|FUR-BO-10001798|      Furniture|   Bookcases|Bush Somerset Col...|\n|FUR-CH-10000454|      Furniture|      Chairs|Hon Deluxe Fabric...|\n|OFF-LA-10000240|Office Supplies|      Labels|Self-Adhesive Add...|\n|FUR-TA-10000577|      Furniture|      Tables|Bretford CR4500 S...|\n|OFF-ST-10000760|Office Supplies|     Storage|Eldon Fold N Roll...|\n|FUR-FU-10001487|      Furniture| Furnishings|Eldon Expressions...|\n|OFF-AR-10002833|Office Supplies|         Art|          Newell 322|\n|TEC-PH-10002275|     Technology|      Phones|Mitel 5320 IP Pho...|\n|OFF-BI-10003910|Office Supplies|     Binders|DXL Angle-View Bi...|\n|OFF-AP-10002892|Office Supplies|  Appliances|Belkin F5C206VTEL...|\n|FUR-TA-10001539|      Furniture|      Tables|Chromcraft Rectan...|\n|TEC-PH-10002033|     Technology|      Phones|Konftel 250 Confe...|\n|OFF-PA-10002365|Office Supplies|       Paper|          Xerox 1967|\n|OFF-BI-10003656|Office Supplies|     Binders|Fellowes PB200 Pl...|\n|OFF-AP-10002311|Office Supplies|  Appliances|Holmes Replacemen...|\n|OFF-BI-10000756|Office Supplies|     Binders|Storex DuraTech R...|\n|OFF-ST-10004186|Office Supplies|     Storage|Stur-D-Stor Shelv...|\n|OFF-ST-10000107|Office Supplies|     Storage|Fellowes Super St...|\n|OFF-AR-10003056|Office Supplies|         Art|          Newell 341|\n|TEC-PH-10001949|     Technology|      Phones|Cisco SPA 501G IP...|\n+---------------+---------------+------------+--------------------+\nonly showing top 20 rows\n\n"
     ]
    }
   ],
   "source": [
    "# Load CSV files into DataFrames\n",
    "product_df = spark.read.csv(\"/FileStore/tables/Product.csv\",header=True,inferSchema=True)\n",
    "product_df.printSchema()\n",
    "product_df.show()"
   ]
  },
  {
   "cell_type": "code",
   "execution_count": 0,
   "metadata": {
    "application/vnd.databricks.v1+cell": {
     "cellMetadata": {
      "byteLimit": 2048000,
      "rowLimit": 10000
     },
     "inputWidgets": {},
     "nuid": "2687c5e0-d5ff-4668-8b88-b38aab109e57",
     "showTitle": false,
     "tableResultSettingsMap": {},
     "title": ""
    }
   },
   "outputs": [
    {
     "output_type": "stream",
     "name": "stdout",
     "output_type": "stream",
     "text": [
      "root\n |-- Customer ID: string (nullable = true)\n |-- Customer Name: string (nullable = true)\n |-- Segment: string (nullable = true)\n |-- Age: integer (nullable = true)\n |-- Country: string (nullable = true)\n |-- City: string (nullable = true)\n |-- State: string (nullable = true)\n |-- Postal Code: integer (nullable = true)\n |-- Region: string (nullable = true)\n\n+-----------+------------------+-----------+---+-------------+---------------+--------------+-----------+-------+\n|Customer ID|     Customer Name|    Segment|Age|      Country|           City|         State|Postal Code| Region|\n+-----------+------------------+-----------+---+-------------+---------------+--------------+-----------+-------+\n|   CG-12520|       Claire Gute|   Consumer| 67|United States|      Henderson|      Kentucky|      42420|  South|\n|   DV-13045|   Darrin Van Huff|  Corporate| 31|United States|    Los Angeles|    California|      90036|   West|\n|   SO-20335|    Sean O'Donnell|   Consumer| 65|United States|Fort Lauderdale|       Florida|      33311|  South|\n|   BH-11710|   Brosina Hoffman|   Consumer| 20|United States|    Los Angeles|    California|      90032|   West|\n|   AA-10480|      Andrew Allen|   Consumer| 50|United States|        Concord|North Carolina|      28027|  South|\n|   IM-15070|      Irene Maddox|   Consumer| 66|United States|        Seattle|    Washington|      98103|   West|\n|   HP-14815|     Harold Pawlan|Home Office| 20|United States|     Fort Worth|         Texas|      76106|Central|\n|   PK-19075|         Pete Kriz|   Consumer| 46|United States|        Madison|     Wisconsin|      53711|Central|\n|   AG-10270|   Alejandro Grove|   Consumer| 18|United States|    West Jordan|          Utah|      84084|   West|\n|   ZD-21925|Zuschuss Donatelli|   Consumer| 66|United States|  San Francisco|    California|      94109|   West|\n|   KB-16585|         Ken Black|  Corporate| 67|United States|        Fremont|      Nebraska|      68025|Central|\n|   SF-20065|   Sandra Flanagan|   Consumer| 41|United States|   Philadelphia|  Pennsylvania|      19140|   East|\n|   EB-13870|       Emily Burns|   Consumer| 34|United States|           Orem|          Utah|      84057|   West|\n|   EH-13945|     Eric Hoffmann|   Consumer| 21|United States|    Los Angeles|    California|      90049|   West|\n|   TB-21520|   Tracy Blumstein|   Consumer| 48|United States|   Philadelphia|  Pennsylvania|      19140|   East|\n|   MA-17560|      Matt Abelman|Home Office| 19|United States|        Houston|         Texas|      77095|Central|\n|   GH-14485|         Gene Hale|  Corporate| 28|United States|     Richardson|         Texas|      75080|Central|\n|   SN-20710|      Steve Nguyen|Home Office| 46|United States|        Houston|         Texas|      77041|Central|\n|   LC-16930|    Linda Cazamias|  Corporate| 31|United States|     Naperville|      Illinois|      60540|Central|\n|   RA-19885|      Ruben Ausman|  Corporate| 51|United States|    Los Angeles|    California|      90049|   West|\n+-----------+------------------+-----------+---+-------------+---------------+--------------+-----------+-------+\nonly showing top 20 rows\n\n"
     ]
    }
   ],
   "source": [
    "# Load CSV files into DataFrames\n",
    "customer_df = spark.read.csv(\"/FileStore/tables/Customer.csv\",header=True,inferSchema=True)\n",
    "customer_df.printSchema()\n",
    "customer_df.show()"
   ]
  },
  {
   "cell_type": "code",
   "execution_count": 0,
   "metadata": {
    "application/vnd.databricks.v1+cell": {
     "cellMetadata": {
      "byteLimit": 2048000,
      "rowLimit": 10000
     },
     "inputWidgets": {},
     "nuid": "0f92d4ef-d2d6-4812-89ee-b71925dc56db",
     "showTitle": false,
     "tableResultSettingsMap": {},
     "title": ""
    }
   },
   "outputs": [
    {
     "output_type": "stream",
     "name": "stdout",
     "output_type": "stream",
     "text": [
      "Out[7]: ['Order Line',\n 'Order ID',\n 'Order Date',\n 'Ship Date',\n 'Ship Mode',\n 'Customer ID',\n 'Product ID',\n 'Sales',\n 'Quantity',\n 'Discount',\n 'Profit']"
     ]
    }
   ],
   "source": [
    "#to show list of columns\n",
    "sales_df.columns"
   ]
  },
  {
   "cell_type": "code",
   "execution_count": 0,
   "metadata": {
    "application/vnd.databricks.v1+cell": {
     "cellMetadata": {
      "byteLimit": 2048000,
      "rowLimit": 10000
     },
     "inputWidgets": {},
     "nuid": "a1df442e-5f6d-4b8c-9133-34d1444f4728",
     "showTitle": false,
     "tableResultSettingsMap": {},
     "title": ""
    }
   },
   "outputs": [
    {
     "output_type": "stream",
     "name": "stdout",
     "output_type": "stream",
     "text": [
      "+-------+------------------+--------------+--------------+-----------+---------------+-----------------+-----------------+-------------------+------------------+\n|summary|        Order_Line|      Order_ID|     Ship_Mode|Customer_ID|     Product_ID|            Sales|         Quantity|           Discount|            Profit|\n+-------+------------------+--------------+--------------+-----------+---------------+-----------------+-----------------+-------------------+------------------+\n|  count|              9994|          9994|          9994|       9994|           9994|             9994|             9994|               9994|              9994|\n|   mean|            4997.5|          null|          null|       null|           null|       229.858022|3.789573744246548|0.15620272163298934|28.656896307784802|\n| stddev|2885.1636290974325|          null|          null|       null|           null|623.2451308551178|2.225109691141402|0.20645196782571626| 234.2601076909573|\n|    min|                 1|CA-2014-100006|   First Class|   AA-10315|FUR-BO-10000112|             0.44|                1|                0.0|         -6599.978|\n|    max|              9994|US-2017-169551|Standard Class|   ZD-21925|TEC-PH-10004977|         22638.48|               14|                0.8|          8399.976|\n+-------+------------------+--------------+--------------+-----------+---------------+-----------------+-----------------+-------------------+------------------+\n\n+----------+--------------+----------+----------+--------------+-----------+---------------+-------+--------+--------+--------+\n|Order_Line|      Order_ID|Order_Date| Ship_Date|     Ship_Mode|Customer_ID|     Product_ID|  Sales|Quantity|Discount|  Profit|\n+----------+--------------+----------+----------+--------------+-----------+---------------+-------+--------+--------+--------+\n|         1|CA-2016-152156|2016-11-08|2016-11-11|  Second Class|   CG-12520|FUR-BO-10001798| 261.96|       2|     0.0| 41.9136|\n|         2|CA-2016-152156|2016-11-08|2016-11-11|  Second Class|   CG-12520|FUR-CH-10000454| 731.94|       3|     0.0| 219.582|\n|         3|CA-2016-138688|2016-06-12|2016-06-16|  Second Class|   DV-13045|OFF-LA-10000240|  14.62|       2|     0.0|  6.8714|\n|         4|US-2015-108966|2015-10-11|2015-10-18|Standard Class|   SO-20335|FUR-TA-10000577| 957.58|       5|    0.45|-383.031|\n|         5|US-2015-108966|2015-10-11|2015-10-18|Standard Class|   SO-20335|OFF-ST-10000760|  22.37|       2|     0.2|  2.5164|\n|         6|CA-2014-115812|2014-06-09|2014-06-14|Standard Class|   BH-11710|FUR-FU-10001487|  48.86|       7|     0.0| 14.1694|\n|         7|CA-2014-115812|2014-06-09|2014-06-14|Standard Class|   BH-11710|OFF-AR-10002833|   7.28|       4|     0.0|  1.9656|\n|         8|CA-2014-115812|2014-06-09|2014-06-14|Standard Class|   BH-11710|TEC-PH-10002275| 907.15|       6|     0.2| 90.7152|\n|         9|CA-2014-115812|2014-06-09|2014-06-14|Standard Class|   BH-11710|OFF-BI-10003910|  18.50|       3|     0.2|  5.7825|\n|        10|CA-2014-115812|2014-06-09|2014-06-14|Standard Class|   BH-11710|OFF-AP-10002892| 114.90|       5|     0.0|   34.47|\n|        11|CA-2014-115812|2014-06-09|2014-06-14|Standard Class|   BH-11710|FUR-TA-10001539|1706.18|       9|     0.2| 85.3092|\n|        12|CA-2014-115812|2014-06-09|2014-06-14|Standard Class|   BH-11710|TEC-PH-10002033| 911.42|       4|     0.2| 68.3568|\n|        13|CA-2017-114412|2017-04-15|2017-04-20|Standard Class|   AA-10480|OFF-PA-10002365|  15.55|       3|     0.2|  5.4432|\n|        14|CA-2016-161389|2016-12-05|2016-12-10|Standard Class|   IM-15070|OFF-BI-10003656| 407.98|       3|     0.2|132.5922|\n|        15|US-2015-118983|2015-11-22|2015-11-26|Standard Class|   HP-14815|OFF-AP-10002311|  68.81|       5|     0.8|-123.858|\n|        16|US-2015-118983|2015-11-22|2015-11-26|Standard Class|   HP-14815|OFF-BI-10000756|   2.54|       3|     0.8|  -3.816|\n|        17|CA-2014-105893|2014-11-11|2014-11-18|Standard Class|   PK-19075|OFF-ST-10004186| 665.88|       6|     0.0| 13.3176|\n|        18|CA-2014-167164|2014-05-13|2014-05-15|  Second Class|   AG-10270|OFF-ST-10000107|  55.50|       2|     0.0|    9.99|\n|        19|CA-2014-143336|2014-08-27|2014-09-01|  Second Class|   ZD-21925|OFF-AR-10003056|   8.56|       2|     0.0|  2.4824|\n|        20|CA-2014-143336|2014-08-27|2014-09-01|  Second Class|   ZD-21925|TEC-PH-10001949| 213.48|       3|     0.2|  16.011|\n+----------+--------------+----------+----------+--------------+-----------+---------------+-------+--------+--------+--------+\nonly showing top 20 rows\n\n"
     ]
    }
   ],
   "source": [
    "#Rename Columns in the sales csv\n",
    "sales_df = sales_df.withColumnRenamed(\"Ship Date\",\"Ship_Date\").withColumnRenamed(\"Ship Mode\",\"Ship_Mode\").withColumnRenamed(\"Customer ID\",\"Customer_ID\").withColumnRenamed(\"Product ID\",\"Product_ID\").withColumnRenamed(\"Order Line\",\"Order_Line\").withColumnRenamed(\"Order ID\",\"Order_ID\").withColumnRenamed(\"Order Date\",\"Order_Date\")\n",
    "sales_df = sales_df.withColumn(\"Sales\", sales_df[\"Sales\"].cast(DecimalType(10, 2)))\n",
    "sales_df.describe().show()\n",
    "sales_df.show()"
   ]
  },
  {
   "cell_type": "code",
   "execution_count": 0,
   "metadata": {
    "application/vnd.databricks.v1+cell": {
     "cellMetadata": {
      "byteLimit": 2048000,
      "rowLimit": 10000
     },
     "inputWidgets": {},
     "nuid": "bd270aa4-ca65-402b-910b-70b4ea46762d",
     "showTitle": false,
     "tableResultSettingsMap": {},
     "title": ""
    }
   },
   "outputs": [
    {
     "output_type": "display_data",
     "data": {
      "text/plain": [
       "\u001B[0;31m---------------------------------------------------------------------------\u001B[0m\n",
       "\u001B[0;31mNameError\u001B[0m                                 Traceback (most recent call last)\n",
       "File \u001B[0;32m<command-1829244035121902>:2\u001B[0m\n",
       "\u001B[1;32m      1\u001B[0m \u001B[38;5;66;03m#Find na null values\u001B[39;00m\n",
       "\u001B[0;32m----> 2\u001B[0m sales_df\u001B[38;5;241m.\u001B[39mselect(\u001B[38;5;124m\"\u001B[39m\u001B[38;5;124mOrder Line\u001B[39m\u001B[38;5;124m\"\u001B[39m,\u001B[43misnan\u001B[49m(\u001B[38;5;124m\"\u001B[39m\u001B[38;5;124mOrder Line\u001B[39m\u001B[38;5;124m\"\u001B[39m))\u001B[38;5;241m.\u001B[39mshow()\n",
       "\n",
       "\u001B[0;31mNameError\u001B[0m: name 'isnan' is not defined"
      ]
     },
     "metadata": {
      "application/vnd.databricks.v1+output": {
       "arguments": {},
       "data": "\u001B[0;31m---------------------------------------------------------------------------\u001B[0m\n\u001B[0;31mNameError\u001B[0m                                 Traceback (most recent call last)\nFile \u001B[0;32m<command-1829244035121902>:2\u001B[0m\n\u001B[1;32m      1\u001B[0m \u001B[38;5;66;03m#Find na null values\u001B[39;00m\n\u001B[0;32m----> 2\u001B[0m sales_df\u001B[38;5;241m.\u001B[39mselect(\u001B[38;5;124m\"\u001B[39m\u001B[38;5;124mOrder Line\u001B[39m\u001B[38;5;124m\"\u001B[39m,\u001B[43misnan\u001B[49m(\u001B[38;5;124m\"\u001B[39m\u001B[38;5;124mOrder Line\u001B[39m\u001B[38;5;124m\"\u001B[39m))\u001B[38;5;241m.\u001B[39mshow()\n\n\u001B[0;31mNameError\u001B[0m: name 'isnan' is not defined",
       "errorSummary": "<span class='ansi-red-fg'>NameError</span>: name 'isnan' is not defined",
       "errorTraceType": "ansi",
       "metadata": {},
       "type": "ipynbError"
      }
     },
     "output_type": "display_data"
    }
   ],
   "source": [
    "#Find na null values\n",
    "sales_df.select(\"Order_Line\",isnan(\"Order_Line\")).show()\n"
   ]
  },
  {
   "cell_type": "code",
   "execution_count": 0,
   "metadata": {
    "application/vnd.databricks.v1+cell": {
     "cellMetadata": {
      "byteLimit": 2048000,
      "rowLimit": 10000
     },
     "inputWidgets": {},
     "nuid": "9abc64a5-e304-4ae6-afef-98f06622be24",
     "showTitle": false,
     "tableResultSettingsMap": {},
     "title": ""
    }
   },
   "outputs": [
    {
     "output_type": "stream",
     "name": "stdout",
     "output_type": "stream",
     "text": [
      "+---------------+---------------+------------+--------------------+\n|     Product_ID|       Category|Sub_Category|        Product_Name|\n+---------------+---------------+------------+--------------------+\n|FUR-BO-10001798|      Furniture|   Bookcases|Bush Somerset Col...|\n|FUR-CH-10000454|      Furniture|      Chairs|Hon Deluxe Fabric...|\n|OFF-LA-10000240|Office Supplies|      Labels|Self-Adhesive Add...|\n|FUR-TA-10000577|      Furniture|      Tables|Bretford CR4500 S...|\n|OFF-ST-10000760|Office Supplies|     Storage|Eldon Fold N Roll...|\n|FUR-FU-10001487|      Furniture| Furnishings|Eldon Expressions...|\n|OFF-AR-10002833|Office Supplies|         Art|          Newell 322|\n|TEC-PH-10002275|     Technology|      Phones|Mitel 5320 IP Pho...|\n|OFF-BI-10003910|Office Supplies|     Binders|DXL Angle-View Bi...|\n|OFF-AP-10002892|Office Supplies|  Appliances|Belkin F5C206VTEL...|\n|FUR-TA-10001539|      Furniture|      Tables|Chromcraft Rectan...|\n|TEC-PH-10002033|     Technology|      Phones|Konftel 250 Confe...|\n|OFF-PA-10002365|Office Supplies|       Paper|          Xerox 1967|\n|OFF-BI-10003656|Office Supplies|     Binders|Fellowes PB200 Pl...|\n|OFF-AP-10002311|Office Supplies|  Appliances|Holmes Replacemen...|\n|OFF-BI-10000756|Office Supplies|     Binders|Storex DuraTech R...|\n|OFF-ST-10004186|Office Supplies|     Storage|Stur-D-Stor Shelv...|\n|OFF-ST-10000107|Office Supplies|     Storage|Fellowes Super St...|\n|OFF-AR-10003056|Office Supplies|         Art|          Newell 341|\n|TEC-PH-10001949|     Technology|      Phones|Cisco SPA 501G IP...|\n+---------------+---------------+------------+--------------------+\nonly showing top 20 rows\n\n"
     ]
    }
   ],
   "source": [
    "#Rename Columns from the product csv\n",
    "product_df = product_df.withColumnRenamed(\"Product ID\",\"Product_ID\").withColumnRenamed(\"Product Name\",\"Product_Name\").withColumnRenamed(\"Sub-Category\",\"Sub_Category\")\n",
    "product_df.show()"
   ]
  },
  {
   "cell_type": "code",
   "execution_count": 0,
   "metadata": {
    "application/vnd.databricks.v1+cell": {
     "cellMetadata": {
      "byteLimit": 2048000,
      "rowLimit": 10000
     },
     "inputWidgets": {},
     "nuid": "c5f2e600-e899-408d-838b-2ce9228bbb78",
     "showTitle": false,
     "tableResultSettingsMap": {},
     "title": ""
    }
   },
   "outputs": [
    {
     "output_type": "stream",
     "name": "stdout",
     "output_type": "stream",
     "text": [
      "+-----------+------------------+-----------+---+-------------+---------------+--------------+-----------+-------+\n|Customer_ID|     Customer_Name|    Segment|Age|      Country|           City|         State|Postal_Code| Region|\n+-----------+------------------+-----------+---+-------------+---------------+--------------+-----------+-------+\n|   CG-12520|       Claire Gute|   Consumer| 67|United States|      Henderson|      Kentucky|      42420|  South|\n|   DV-13045|   Darrin Van Huff|  Corporate| 31|United States|    Los Angeles|    California|      90036|   West|\n|   SO-20335|    Sean O'Donnell|   Consumer| 65|United States|Fort Lauderdale|       Florida|      33311|  South|\n|   BH-11710|   Brosina Hoffman|   Consumer| 20|United States|    Los Angeles|    California|      90032|   West|\n|   AA-10480|      Andrew Allen|   Consumer| 50|United States|        Concord|North Carolina|      28027|  South|\n|   IM-15070|      Irene Maddox|   Consumer| 66|United States|        Seattle|    Washington|      98103|   West|\n|   HP-14815|     Harold Pawlan|Home Office| 20|United States|     Fort Worth|         Texas|      76106|Central|\n|   PK-19075|         Pete Kriz|   Consumer| 46|United States|        Madison|     Wisconsin|      53711|Central|\n|   AG-10270|   Alejandro Grove|   Consumer| 18|United States|    West Jordan|          Utah|      84084|   West|\n|   ZD-21925|Zuschuss Donatelli|   Consumer| 66|United States|  San Francisco|    California|      94109|   West|\n|   KB-16585|         Ken Black|  Corporate| 67|United States|        Fremont|      Nebraska|      68025|Central|\n|   SF-20065|   Sandra Flanagan|   Consumer| 41|United States|   Philadelphia|  Pennsylvania|      19140|   East|\n|   EB-13870|       Emily Burns|   Consumer| 34|United States|           Orem|          Utah|      84057|   West|\n|   EH-13945|     Eric Hoffmann|   Consumer| 21|United States|    Los Angeles|    California|      90049|   West|\n|   TB-21520|   Tracy Blumstein|   Consumer| 48|United States|   Philadelphia|  Pennsylvania|      19140|   East|\n|   MA-17560|      Matt Abelman|Home Office| 19|United States|        Houston|         Texas|      77095|Central|\n|   GH-14485|         Gene Hale|  Corporate| 28|United States|     Richardson|         Texas|      75080|Central|\n|   SN-20710|      Steve Nguyen|Home Office| 46|United States|        Houston|         Texas|      77041|Central|\n|   LC-16930|    Linda Cazamias|  Corporate| 31|United States|     Naperville|      Illinois|      60540|Central|\n|   RA-19885|      Ruben Ausman|  Corporate| 51|United States|    Los Angeles|    California|      90049|   West|\n+-----------+------------------+-----------+---+-------------+---------------+--------------+-----------+-------+\nonly showing top 20 rows\n\n"
     ]
    }
   ],
   "source": [
    "#Rename Columns from the customer csv\n",
    "customer_df = customer_df.withColumnRenamed(\"Customer ID\",\"Customer_ID\").withColumnRenamed(\"Customer Name\",\"Customer_Name\").withColumnRenamed(\"Postal Code\",\"Postal_Code\")\n",
    "customer_df.show()"
   ]
  },
  {
   "cell_type": "code",
   "execution_count": 0,
   "metadata": {
    "application/vnd.databricks.v1+cell": {
     "cellMetadata": {
      "byteLimit": 2048000,
      "rowLimit": 10000
     },
     "inputWidgets": {},
     "nuid": "426b2b4c-ac3d-4ff7-967d-820e041c80b8",
     "showTitle": false,
     "tableResultSettingsMap": {},
     "title": ""
    }
   },
   "outputs": [
    {
     "output_type": "stream",
     "name": "stdout",
     "output_type": "stream",
     "text": [
      "+-----------+---------------+----------+--------------+----------+----------+--------------+-------+--------+--------+--------+---------------+------------+--------------------+------------------+-----------+---+-------------+---------------+--------------+-----------+-------+\n|Customer_ID|     Product_ID|Order_Line|      Order_ID|Order_Date| Ship_Date|     Ship_Mode|  Sales|Quantity|Discount|  Profit|       Category|Sub_Category|        Product_Name|     Customer_Name|    Segment|Age|      Country|           City|         State|Postal_Code| Region|\n+-----------+---------------+----------+--------------+----------+----------+--------------+-------+--------+--------+--------+---------------+------------+--------------------+------------------+-----------+---+-------------+---------------+--------------+-----------+-------+\n|   CG-12520|FUR-BO-10001798|         1|CA-2016-152156|2016-11-08|2016-11-11|  Second Class| 261.96|       2|     0.0| 41.9136|      Furniture|   Bookcases|Bush Somerset Col...|       Claire Gute|   Consumer| 67|United States|      Henderson|      Kentucky|      42420|  South|\n|   CG-12520|FUR-CH-10000454|         2|CA-2016-152156|2016-11-08|2016-11-11|  Second Class| 731.94|       3|     0.0| 219.582|      Furniture|      Chairs|Hon Deluxe Fabric...|       Claire Gute|   Consumer| 67|United States|      Henderson|      Kentucky|      42420|  South|\n|   DV-13045|OFF-LA-10000240|         3|CA-2016-138688|2016-06-12|2016-06-16|  Second Class|  14.62|       2|     0.0|  6.8714|Office Supplies|      Labels|Self-Adhesive Add...|   Darrin Van Huff|  Corporate| 31|United States|    Los Angeles|    California|      90036|   West|\n|   SO-20335|FUR-TA-10000577|         4|US-2015-108966|2015-10-11|2015-10-18|Standard Class| 957.58|       5|    0.45|-383.031|      Furniture|      Tables|Bretford CR4500 S...|    Sean O'Donnell|   Consumer| 65|United States|Fort Lauderdale|       Florida|      33311|  South|\n|   SO-20335|OFF-ST-10000760|         5|US-2015-108966|2015-10-11|2015-10-18|Standard Class|  22.37|       2|     0.2|  2.5164|Office Supplies|     Storage|Eldon Fold N Roll...|    Sean O'Donnell|   Consumer| 65|United States|Fort Lauderdale|       Florida|      33311|  South|\n|   BH-11710|FUR-FU-10001487|         6|CA-2014-115812|2014-06-09|2014-06-14|Standard Class|  48.86|       7|     0.0| 14.1694|      Furniture| Furnishings|Eldon Expressions...|   Brosina Hoffman|   Consumer| 20|United States|    Los Angeles|    California|      90032|   West|\n|   BH-11710|OFF-AR-10002833|         7|CA-2014-115812|2014-06-09|2014-06-14|Standard Class|   7.28|       4|     0.0|  1.9656|Office Supplies|         Art|          Newell 322|   Brosina Hoffman|   Consumer| 20|United States|    Los Angeles|    California|      90032|   West|\n|   BH-11710|TEC-PH-10002275|         8|CA-2014-115812|2014-06-09|2014-06-14|Standard Class| 907.15|       6|     0.2| 90.7152|     Technology|      Phones|Mitel 5320 IP Pho...|   Brosina Hoffman|   Consumer| 20|United States|    Los Angeles|    California|      90032|   West|\n|   BH-11710|OFF-BI-10003910|         9|CA-2014-115812|2014-06-09|2014-06-14|Standard Class|  18.50|       3|     0.2|  5.7825|Office Supplies|     Binders|DXL Angle-View Bi...|   Brosina Hoffman|   Consumer| 20|United States|    Los Angeles|    California|      90032|   West|\n|   BH-11710|OFF-AP-10002892|        10|CA-2014-115812|2014-06-09|2014-06-14|Standard Class| 114.90|       5|     0.0|   34.47|Office Supplies|  Appliances|Belkin F5C206VTEL...|   Brosina Hoffman|   Consumer| 20|United States|    Los Angeles|    California|      90032|   West|\n|   BH-11710|FUR-TA-10001539|        11|CA-2014-115812|2014-06-09|2014-06-14|Standard Class|1706.18|       9|     0.2| 85.3092|      Furniture|      Tables|Chromcraft Rectan...|   Brosina Hoffman|   Consumer| 20|United States|    Los Angeles|    California|      90032|   West|\n|   BH-11710|TEC-PH-10002033|        12|CA-2014-115812|2014-06-09|2014-06-14|Standard Class| 911.42|       4|     0.2| 68.3568|     Technology|      Phones|Konftel 250 Confe...|   Brosina Hoffman|   Consumer| 20|United States|    Los Angeles|    California|      90032|   West|\n|   AA-10480|OFF-PA-10002365|        13|CA-2017-114412|2017-04-15|2017-04-20|Standard Class|  15.55|       3|     0.2|  5.4432|Office Supplies|       Paper|          Xerox 1967|      Andrew Allen|   Consumer| 50|United States|        Concord|North Carolina|      28027|  South|\n|   IM-15070|OFF-BI-10003656|        14|CA-2016-161389|2016-12-05|2016-12-10|Standard Class| 407.98|       3|     0.2|132.5922|Office Supplies|     Binders|Fellowes PB200 Pl...|      Irene Maddox|   Consumer| 66|United States|        Seattle|    Washington|      98103|   West|\n|   HP-14815|OFF-AP-10002311|        15|US-2015-118983|2015-11-22|2015-11-26|Standard Class|  68.81|       5|     0.8|-123.858|Office Supplies|  Appliances|Holmes Replacemen...|     Harold Pawlan|Home Office| 20|United States|     Fort Worth|         Texas|      76106|Central|\n|   HP-14815|OFF-BI-10000756|        16|US-2015-118983|2015-11-22|2015-11-26|Standard Class|   2.54|       3|     0.8|  -3.816|Office Supplies|     Binders|Storex DuraTech R...|     Harold Pawlan|Home Office| 20|United States|     Fort Worth|         Texas|      76106|Central|\n|   PK-19075|OFF-ST-10004186|        17|CA-2014-105893|2014-11-11|2014-11-18|Standard Class| 665.88|       6|     0.0| 13.3176|Office Supplies|     Storage|Stur-D-Stor Shelv...|         Pete Kriz|   Consumer| 46|United States|        Madison|     Wisconsin|      53711|Central|\n|   AG-10270|OFF-ST-10000107|        18|CA-2014-167164|2014-05-13|2014-05-15|  Second Class|  55.50|       2|     0.0|    9.99|Office Supplies|     Storage|Fellowes Super St...|   Alejandro Grove|   Consumer| 18|United States|    West Jordan|          Utah|      84084|   West|\n|   ZD-21925|OFF-AR-10003056|        19|CA-2014-143336|2014-08-27|2014-09-01|  Second Class|   8.56|       2|     0.0|  2.4824|Office Supplies|         Art|          Newell 341|Zuschuss Donatelli|   Consumer| 66|United States|  San Francisco|    California|      94109|   West|\n|   ZD-21925|TEC-PH-10001949|        20|CA-2014-143336|2014-08-27|2014-09-01|  Second Class| 213.48|       3|     0.2|  16.011|     Technology|      Phones|Cisco SPA 501G IP...|Zuschuss Donatelli|   Consumer| 66|United States|  San Francisco|    California|      94109|   West|\n+-----------+---------------+----------+--------------+----------+----------+--------------+-------+--------+--------+--------+---------------+------------+--------------------+------------------+-----------+---+-------------+---------------+--------------+-----------+-------+\nonly showing top 20 rows\n\n"
     ]
    }
   ],
   "source": [
    "#Join the DataFrames:\n",
    "joined_df = sales_df.join(product_df, \"product_id\").join(customer_df, \"customer_id\")\n",
    "joined_df.show()"
   ]
  },
  {
   "cell_type": "code",
   "execution_count": 0,
   "metadata": {
    "application/vnd.databricks.v1+cell": {
     "cellMetadata": {
      "byteLimit": 2048000,
      "rowLimit": 10000
     },
     "inputWidgets": {},
     "nuid": "74931933-c1c4-4927-8acc-22c9eccf0388",
     "showTitle": false,
     "tableResultSettingsMap": {},
     "title": ""
    }
   },
   "outputs": [
    {
     "output_type": "stream",
     "name": "stdout",
     "output_type": "stream",
     "text": [
      "+--------------------------+\n|count(DISTINCT product_id)|\n+--------------------------+\n|                      1862|\n+--------------------------+\n\n"
     ]
    }
   ],
   "source": [
    "joined_df.createOrReplaceTempView(\"sales_view\")\n",
    "df2 = spark.sql(\"SELECT count(DISTINCT(product_id)) from sales_view\")\n",
    "df2.show()"
   ]
  },
  {
   "cell_type": "code",
   "execution_count": 0,
   "metadata": {
    "application/vnd.databricks.v1+cell": {
     "cellMetadata": {
      "byteLimit": 2048000,
      "rowLimit": 10000
     },
     "inputWidgets": {},
     "nuid": "8db00e39-bfd4-4e07-a208-8a69a2dce822",
     "showTitle": false,
     "tableResultSettingsMap": {},
     "title": ""
    }
   },
   "outputs": [
    {
     "output_type": "stream",
     "name": "stdout",
     "output_type": "stream",
     "text": [
      "+---------------+---------+\n|       category|    sales|\n+---------------+---------+\n|Office Supplies|719046.99|\n|      Furniture|741999.98|\n|     Technology|836154.10|\n+---------------+---------+\n\n"
     ]
    }
   ],
   "source": [
    "#1.What is the total sales for each product category?\n",
    "Q1 = spark.sql(\"SELECT category,sum(sales)as sales from sales_view GROUP BY ALL\")\n",
    "Q1.show()"
   ]
  },
  {
   "cell_type": "code",
   "execution_count": 0,
   "metadata": {
    "application/vnd.databricks.v1+cell": {
     "cellMetadata": {
      "byteLimit": 2048000,
      "rowLimit": 10000
     },
     "inputWidgets": {},
     "nuid": "850e3511-4418-46ba-b16c-b6fe6b8e4244",
     "showTitle": false,
     "tableResultSettingsMap": {},
     "title": ""
    }
   },
   "outputs": [
    {
     "output_type": "stream",
     "name": "stdout",
     "output_type": "stream",
     "text": [
      "+-------------+---------------+\n|Customer_Name|No_of_Purchases|\n+-------------+---------------+\n|   Emily Phan|             17|\n+-------------+---------------+\n\n"
     ]
    }
   ],
   "source": [
    "#2.Which customer has made the highest number of purchases?\n",
    "Q2 = spark.sql(\"SELECT Customer_Name,approx_count_distinct(Order_ID)as No_of_Purchases from sales_view GROUP BY ALL ORDER BY approx_count_distinct(Order_ID) DESC limit 1\")\n",
    "Q2.show()"
   ]
  },
  {
   "cell_type": "code",
   "execution_count": 0,
   "metadata": {
    "application/vnd.databricks.v1+cell": {
     "cellMetadata": {
      "byteLimit": 2048000,
      "rowLimit": 10000
     },
     "inputWidgets": {},
     "nuid": "4288d7f7-446e-43d8-bb07-77769782a3a8",
     "showTitle": false,
     "tableResultSettingsMap": {},
     "title": ""
    }
   },
   "outputs": [
    {
     "output_type": "stream",
     "name": "stdout",
     "output_type": "stream",
     "text": [
      "+--------------------+------------+\n|        Product_Name|Avg_Discount|\n+--------------------+------------+\n|#10 Gummed Flap W...|         0.1|\n|#10 Self-Seal Whi...|        0.05|\n|#10 White Busines...|        0.06|\n|#10- 4 1/8 x 9 1/...|        0.08|\n|#10- 4 1/8 x 9 1/...|        0.08|\n|#10-4 1/8 x 9 1/2...|         0.1|\n|#6 3/4 Gummed Fla...|         0.2|\n|1.7 Cubic Foot Co...|        0.07|\n|1/4 Fold Party De...|         0.1|\n|12 Colored Short ...|        0.13|\n|12-1/2 Diameter R...|        0.28|\n|14-7/8 x 11 Blue ...|         0.1|\n|2300 Heavy-Duty T...|         0.1|\n|24 Capacity Maxi ...|         0.1|\n|24-Hour Round Wal...|        0.07|\n|  3-ring staple pack|         0.1|\n|3.6 Cubic Foot Co...|        0.52|\n|36X48 HARDFLOOR C...|        0.23|\n|3D Systems Cube P...|         0.0|\n|3D Systems Cube P...|        0.35|\n+--------------------+------------+\nonly showing top 20 rows\n\n"
     ]
    }
   ],
   "source": [
    "#3.What is the average discount given on sales across all products?\n",
    "Q3 = spark.sql(\"SELECT Product_Name,round(avg(discount),2)as Avg_Discount from sales_view GROUP BY ALL ORDER BY Product_Name ASC\")\n",
    "Q3.show()"
   ]
  },
  {
   "cell_type": "code",
   "execution_count": 0,
   "metadata": {
    "application/vnd.databricks.v1+cell": {
     "cellMetadata": {
      "byteLimit": 2048000,
      "rowLimit": 10000
     },
     "inputWidgets": {},
     "nuid": "ec251ff8-f209-44a3-a20a-ceab0b035945",
     "showTitle": false,
     "tableResultSettingsMap": {},
     "title": ""
    }
   },
   "outputs": [
    {
     "output_type": "stream",
     "name": "stdout",
     "output_type": "stream",
     "text": [
      "+-------+------------+\n| Region|Product_Sold|\n+-------+------------+\n|  South|        1089|\n|Central|        1373|\n|   East|        1471|\n|   West|        1629|\n+-------+------------+\n\n"
     ]
    }
   ],
   "source": [
    "#4.How many unique products were sold in each region?\n",
    "Q4 = spark.sql(\"SELECT Region,approx_count_distinct(product_id) as Product_Sold from sales_view GROUP BY ALL\")\n",
    "Q4.show()"
   ]
  },
  {
   "cell_type": "code",
   "execution_count": 0,
   "metadata": {
    "application/vnd.databricks.v1+cell": {
     "cellMetadata": {
      "byteLimit": 2048000,
      "rowLimit": 10000
     },
     "inputWidgets": {},
     "nuid": "0c7cc9f1-928d-4bc1-803a-b6f004516e7f",
     "showTitle": false,
     "tableResultSettingsMap": {},
     "title": ""
    }
   },
   "outputs": [
    {
     "output_type": "stream",
     "name": "stdout",
     "output_type": "stream",
     "text": [
      "+--------------------+--------+\n|               state|  Profit|\n+--------------------+--------+\n|             Alabama| 2845.06|\n|             Arizona|  9563.2|\n|            Arkansas|  -62.95|\n|          California|59398.31|\n|            Colorado|  970.46|\n|         Connecticut|   533.5|\n|            Delaware| 3336.38|\n|District of Columbia|  490.96|\n|             Florida|  750.74|\n|             Georgia|12781.34|\n|            Illinois| 9560.15|\n|             Indiana| 2707.35|\n|                Iowa| 2258.59|\n|              Kansas|   139.2|\n|            Kentucky| 4513.31|\n|           Louisiana| 2659.24|\n|            Maryland|  436.65|\n|       Massachusetts| 5905.54|\n|            Michigan|  7752.3|\n|           Minnesota| 7202.52|\n+--------------------+--------+\nonly showing top 20 rows\n\n"
     ]
    }
   ],
   "source": [
    "#5.What is the total profit generated in each state?\n",
    "Q5 = spark.sql(\"SELECT state,round(sum(profit),2) as Profit from sales_view GROUP BY ALL ORDER BY state ASC\")\n",
    "Q5.show()"
   ]
  },
  {
   "cell_type": "code",
   "execution_count": 0,
   "metadata": {
    "application/vnd.databricks.v1+cell": {
     "cellMetadata": {
      "byteLimit": 2048000,
      "rowLimit": 10000
     },
     "inputWidgets": {},
     "nuid": "d58a3b4a-4d2c-42b8-99f4-effa45a59eb7",
     "showTitle": false,
     "tableResultSettingsMap": {},
     "title": ""
    }
   },
   "outputs": [
    {
     "output_type": "stream",
     "name": "stdout",
     "output_type": "stream",
     "text": [
      "+------------+---------+\n|Sub_Category|    Sales|\n+------------+---------+\n|      Phones|330007.10|\n|      Chairs|328449.13|\n|     Storage|223843.59|\n|      Tables|206965.68|\n|     Binders|203412.77|\n|    Machines|189238.68|\n| Accessories|167380.31|\n|     Copiers|149528.01|\n|   Bookcases|114880.05|\n|  Appliances|107532.14|\n| Furnishings| 91705.12|\n|       Paper| 78479.24|\n|    Supplies| 46673.52|\n|         Art| 27118.80|\n|   Envelopes| 16476.38|\n|      Labels| 12486.30|\n|   Fasteners|  3024.25|\n+------------+---------+\n\n"
     ]
    }
   ],
   "source": [
    "#6.Which product sub-category has the highest sales?\n",
    "Q6 = spark.sql(\"SELECT Sub_Category,sum(sales)as Sales from sales_view GROUP BY ALL order by sales DESC \")\n",
    "Q6.show()"
   ]
  },
  {
   "cell_type": "code",
   "execution_count": 0,
   "metadata": {
    "application/vnd.databricks.v1+cell": {
     "cellMetadata": {
      "byteLimit": 2048000,
      "rowLimit": 10000
     },
     "inputWidgets": {},
     "nuid": "99e50f79-7e9b-473a-9cfc-1ee999340e99",
     "showTitle": false,
     "tableResultSettingsMap": {},
     "title": ""
    }
   },
   "outputs": [
    {
     "output_type": "stream",
     "name": "stdout",
     "output_type": "stream",
     "text": [
      "+-----------+-------+\n|    segment|Avg_Age|\n+-----------+-------+\n|  Corporate|  44.82|\n|   Consumer|  44.61|\n|Home Office|  43.28|\n+-----------+-------+\n\n"
     ]
    }
   ],
   "source": [
    "#7.What is the average age of customers in each segment?\n",
    "Q7 = spark.sql(\"SELECT segment,round(avg(age),2) as Avg_Age from sales_view GROUP BY ALL order by avg(age) DESC \")\n",
    "Q7.show()"
   ]
  },
  {
   "cell_type": "code",
   "execution_count": 0,
   "metadata": {
    "application/vnd.databricks.v1+cell": {
     "cellMetadata": {
      "byteLimit": 2048000,
      "rowLimit": 10000
     },
     "inputWidgets": {},
     "nuid": "2e07066c-0ddf-4199-8c6b-c4515f4fa9e8",
     "showTitle": false,
     "tableResultSettingsMap": {},
     "title": ""
    }
   },
   "outputs": [
    {
     "output_type": "stream",
     "name": "stdout",
     "output_type": "stream",
     "text": [
      "+--------------+--------------------+\n|     ship_mode|No_of_Orders_Shipped|\n+--------------+--------------------+\n|Standard Class|                2746|\n|  Second Class|                 997|\n|   First Class|                 743|\n|      Same Day|                 255|\n+--------------+--------------------+\n\n"
     ]
    }
   ],
   "source": [
    "#8.How many orders were shipped in each shipping mode?\n",
    "Q8 = spark.sql(\"SELECT ship_mode,approx_count_distinct(Order_ID)as No_of_Orders_Shipped from sales_view GROUP BY ALL order by approx_count_distinct(Order_ID) DESC \")\n",
    "Q8.show()"
   ]
  },
  {
   "cell_type": "code",
   "execution_count": 0,
   "metadata": {
    "application/vnd.databricks.v1+cell": {
     "cellMetadata": {
      "byteLimit": 2048000,
      "rowLimit": 10000
     },
     "inputWidgets": {},
     "nuid": "53c157df-a142-4c0b-ab04-42f50c63aa05",
     "showTitle": false,
     "tableResultSettingsMap": {},
     "title": ""
    }
   },
   "outputs": [
    {
     "output_type": "stream",
     "name": "stdout",
     "output_type": "stream",
     "text": [
      "+-------------+-------------+\n|         city|Quantity_Sold|\n+-------------+-------------+\n|New York City|         3217|\n|  Los Angeles|         2756|\n| Philadelphia|         2299|\n|San Francisco|         1773|\n|      Houston|         1425|\n|      Seattle|         1371|\n|      Chicago|         1153|\n|     Columbus|          854|\n|       Aurora|          611|\n|    San Diego|          609|\n|       Dallas|          602|\n| Jacksonville|          362|\n|      Detroit|          332|\n|  Springfield|          282|\n|    Rochester|          279|\n|    Charlotte|          275|\n|   Wilmington|          271|\n|       Tucson|          257|\n|      Phoenix|          256|\n|        Dover|          256|\n+-------------+-------------+\nonly showing top 20 rows\n\n"
     ]
    }
   ],
   "source": [
    "#9.What is the total quantity of products sold in each city?\n",
    "Q9 = spark.sql(\"SELECT city,sum(quantity)as Quantity_Sold from sales_view GROUP BY ALL order by sum(quantity) DESC \")\n",
    "Q9.show()"
   ]
  },
  {
   "cell_type": "code",
   "execution_count": 0,
   "metadata": {
    "application/vnd.databricks.v1+cell": {
     "cellMetadata": {
      "byteLimit": 2048000,
      "rowLimit": 10000
     },
     "inputWidgets": {},
     "nuid": "c852df0a-7a19-4413-81f0-0ed51450ebfb",
     "showTitle": false,
     "tableResultSettingsMap": {},
     "title": ""
    }
   },
   "outputs": [
    {
     "output_type": "stream",
     "name": "stdout",
     "output_type": "stream",
     "text": [
      "+--------+---------+\n| segment|   Profit|\n+--------+---------+\n|Consumer|134119.21|\n+--------+---------+\n\n"
     ]
    }
   ],
   "source": [
    "#10.Which customer segment has the highest profit margin?\n",
    "Q10 = spark.sql(\"SELECT segment,round(sum(profit),2) as Profit from sales_view GROUP BY ALL order by Profit DESC limit 1\")\n",
    "Q10.show()"
   ]
  },
  {
   "cell_type": "code",
   "execution_count": 0,
   "metadata": {
    "application/vnd.databricks.v1+cell": {
     "cellMetadata": {
      "byteLimit": 2048000,
      "rowLimit": 10000
     },
     "inputWidgets": {},
     "nuid": "8f7e4d51-c719-499a-b7f3-0e068665450e",
     "showTitle": false,
     "tableResultSettingsMap": {},
     "title": ""
    }
   },
   "outputs": [
    {
     "output_type": "stream",
     "name": "stdout",
     "output_type": "stream",
     "text": [
      "+--------------------+--------+\n|        Product_Name|  Profit|\n+--------------------+--------+\n|Canon imageCLASS ...|25199.93|\n|Fellowes PB500 El...| 7753.04|\n|Hewlett Packard L...| 6983.88|\n|Canon PC1060 Pers...| 4570.93|\n|Logitech G19 Prog...| 4425.34|\n|HP Designjet T520...| 4094.98|\n|Ativa V4110MDD Mi...| 3772.95|\n|3D Systems Cube P...| 3717.97|\n|Ibico EPK-21 Elec...| 3345.28|\n|Zebra ZM400 Therm...| 3343.54|\n+--------------------+--------+\n\n"
     ]
    }
   ],
   "source": [
    "# 10 Analytical Questions based integrated dataset\n",
    "#Q11.What are the top 10 best-selling products by profit?\n",
    "Q11 = spark.sql(\"SELECT product_name as Product_Name,round(sum(profit),2) as Profit from sales_view GROUP BY ALL ORDER BY Profit DESC limit 10\")\n",
    "Q11.show()"
   ]
  },
  {
   "cell_type": "code",
   "execution_count": 0,
   "metadata": {
    "application/vnd.databricks.v1+cell": {
     "cellMetadata": {
      "byteLimit": 2048000,
      "rowLimit": 10000
     },
     "inputWidgets": {},
     "nuid": "98cd524b-a7b1-46d7-84b3-a7848a36b8d5",
     "showTitle": false,
     "tableResultSettingsMap": {},
     "title": ""
    }
   },
   "outputs": [
    {
     "output_type": "stream",
     "name": "stdout",
     "output_type": "stream",
     "text": [
      "+---------------+------+\n|       category|Profit|\n+---------------+------+\n|     Technology| 78.75|\n|Office Supplies| 20.33|\n|      Furniture|   8.7|\n+---------------+------+\n\n"
     ]
    }
   ],
   "source": [
    "#Q12.What is the average profit margin for different product categories?\n",
    "Q12 = spark.sql(\"SELECT category,round(avg(profit),2) as Profit from sales_view GROUP BY ALL ORDER BY Profit DESC \")\n",
    "Q12.show()"
   ]
  },
  {
   "cell_type": "code",
   "execution_count": 0,
   "metadata": {
    "application/vnd.databricks.v1+cell": {
     "cellMetadata": {
      "byteLimit": 2048000,
      "rowLimit": 10000
     },
     "inputWidgets": {},
     "nuid": "4736c879-8997-4517-8c10-7eceb8a10a86",
     "showTitle": false,
     "tableResultSettingsMap": {},
     "title": ""
    }
   },
   "outputs": [
    {
     "output_type": "stream",
     "name": "stdout",
     "output_type": "stream",
     "text": [
      "+---------------+----+---------+\n|       category|Year|    Sales|\n+---------------+----+---------+\n|      Furniture|2014|157192.89|\n|      Furniture|2015|170518.26|\n|      Furniture|2016|198901.55|\n|      Furniture|2017|215387.28|\n|Office Supplies|2014|151776.41|\n|Office Supplies|2015|137233.42|\n|Office Supplies|2016|183940.07|\n|Office Supplies|2017|246097.09|\n|     Technology|2014|175278.26|\n|     Technology|2015|162780.78|\n|     Technology|2016|226364.24|\n|     Technology|2017|271730.82|\n+---------------+----+---------+\n\n"
     ]
    }
   ],
   "source": [
    "#Q13.How has the performance of a specific product category changed over time?\n",
    "Q13 = spark.sql(\"SELECT category,year(order_date) as Year,sum(sales) as Sales from sales_view  GROUP BY ALL ORDER BY category,Year\")\n",
    "Q13.show()"
   ]
  },
  {
   "cell_type": "code",
   "execution_count": 0,
   "metadata": {
    "application/vnd.databricks.v1+cell": {
     "cellMetadata": {
      "byteLimit": 2048000,
      "rowLimit": 10000
     },
     "inputWidgets": {},
     "nuid": "d779e8d2-db03-4095-a1c8-690c944c618f",
     "showTitle": false,
     "tableResultSettingsMap": {},
     "title": ""
    }
   },
   "outputs": [
    {
     "output_type": "stream",
     "name": "stdout",
     "output_type": "stream",
     "text": [
      "+------------------+---------------------+--------+\n|     customer_name|Customer_Segmentation|   Sales|\n+------------------+---------------------+--------+\n|       Sean Miller| High-Value Customers|25043.07|\n|      Tamara Chand| High-Value Customers|19052.22|\n|      Raymond Buch| High-Value Customers|15117.35|\n|      Tom Ashbrook| High-Value Customers|14595.62|\n|     Adrian Barton| High-Value Customers|14473.57|\n|      Ken Lonsdale| High-Value Customers|14175.23|\n|      Sanjit Chand| High-Value Customers|14142.34|\n|      Hunter Lopez| High-Value Customers|12873.30|\n|      Sanjit Engle| High-Value Customers|12209.44|\n|Christopher Conant| High-Value Customers|12129.08|\n|      Todd Sumrall| High-Value Customers|11891.75|\n|         Greg Tran| High-Value Customers|11820.12|\n|      Becky Martin| High-Value Customers|11789.64|\n|       Seth Vernon| High-Value Customers|11470.94|\n|   Caroline Jumper| High-Value Customers|11164.97|\n|       Clay Ludtke|  Mid-Value Customers|10880.56|\n|     Maria Etezadi|  Mid-Value Customers|10663.73|\n|    Karen Ferguson|  Mid-Value Customers|10604.26|\n|      Bill Shonely|  Mid-Value Customers|10501.65|\n|      Edward Hooks|  Mid-Value Customers|10310.87|\n+------------------+---------------------+--------+\nonly showing top 20 rows\n\n"
     ]
    }
   ],
   "source": [
    "#Q14.Identify customer segments based on sales\n",
    "Q14 = spark.sql(\"SELECT customer_name,case when sum(sales)<='7000'then 'Low-Value Customers'  when sum(sales)<='11000' then 'Mid-Value Customers'else 'High-Value Customers' end as Customer_Segmentation,sum(sales) as Sales from sales_view GROUP BY ALL ORDER BY Sales DESC \")\n",
    "Q14.show()"
   ]
  },
  {
   "cell_type": "code",
   "execution_count": 0,
   "metadata": {
    "application/vnd.databricks.v1+cell": {
     "cellMetadata": {
      "byteLimit": 2048000,
      "rowLimit": 10000
     },
     "inputWidgets": {},
     "nuid": "f4b96016-1b31-4658-8c8f-dff814085c24",
     "showTitle": false,
     "tableResultSettingsMap": {},
     "title": ""
    }
   },
   "outputs": [
    {
     "output_type": "stream",
     "name": "stdout",
     "output_type": "stream",
     "text": [
      "+----+---------+\n|Year|    sales|\n+----+---------+\n|2014|484247.56|\n|2015|470532.46|\n|2016|609205.86|\n|2017|733215.19|\n+----+---------+\n\n"
     ]
    }
   ],
   "source": [
    "#Q15.What are the overall sales trends over time (e.g., monthly, quarterly, yearly)?\n",
    "Q15 = spark.sql(\"SELECT year(order_date) as Year,sum(sales)as sales from sales_view GROUP BY ALL order by Year\")\n",
    "Q15.show()"
   ]
  },
  {
   "cell_type": "code",
   "execution_count": 0,
   "metadata": {
    "application/vnd.databricks.v1+cell": {
     "cellMetadata": {
      "byteLimit": 2048000,
      "rowLimit": 10000
     },
     "inputWidgets": {},
     "nuid": "817e80f3-2618-4218-8acc-3a7f40a44e37",
     "showTitle": false,
     "tableResultSettingsMap": {},
     "title": ""
    }
   },
   "outputs": [
    {
     "output_type": "stream",
     "name": "stdout",
     "output_type": "stream",
     "text": [
      "+---+---------+\n|Qtr|    sales|\n+---+---------+\n|  1|123144.84|\n|  2|133764.33|\n|  3|196251.94|\n|  4|280054.08|\n+---+---------+\n\n"
     ]
    }
   ],
   "source": [
    "#Q16.What are the overall sales trends by qtr for 2017?\n",
    "Q16 = spark.sql(\"SELECT quarter(order_date) as Qtr,sum(sales)as sales from sales_view where year(order_date)='2017' GROUP BY ALL order by Qtr\")\n",
    "Q16.show()"
   ]
  },
  {
   "cell_type": "code",
   "execution_count": 0,
   "metadata": {
    "application/vnd.databricks.v1+cell": {
     "cellMetadata": {
      "byteLimit": 2048000,
      "rowLimit": 10000
     },
     "inputWidgets": {},
     "nuid": "2ad7fd6b-3589-4c67-8d68-388e959969fa",
     "showTitle": false,
     "tableResultSettingsMap": {},
     "title": ""
    }
   },
   "outputs": [
    {
     "output_type": "stream",
     "name": "stdout",
     "output_type": "stream",
     "text": [
      "+-------+----+---------+\n| Region|Year|    sales|\n+-------+----+---------+\n|Central|2014|106767.93|\n|Central|2015|103610.90|\n|Central|2016|134573.40|\n|Central|2017|173847.83|\n|   East|2014|103371.83|\n|   East|2015|133268.86|\n|   East|2016|172612.32|\n|   East|2017|202481.51|\n|  South|2014|106921.65|\n|  South|2015| 80855.83|\n|  South|2016| 97603.88|\n|  South|2017|116650.70|\n|   West|2014|167186.15|\n|   West|2015|152796.87|\n|   West|2016|204416.26|\n|   West|2017|240235.15|\n+-------+----+---------+\n\n"
     ]
    }
   ],
   "source": [
    "#Q17.How do sales vary across different geographic regions?\n",
    "Q17 = spark.sql(\"SELECT Region,year(order_date) as Year,sum(sales)as sales from sales_view  GROUP BY ALL order by Region,Year\")\n",
    "Q17.show()"
   ]
  },
  {
   "cell_type": "code",
   "execution_count": 0,
   "metadata": {
    "application/vnd.databricks.v1+cell": {
     "cellMetadata": {
      "byteLimit": 2048000,
      "rowLimit": 10000
     },
     "inputWidgets": {},
     "nuid": "55cf8241-b52a-4cfd-92af-1a5e7629e790",
     "showTitle": false,
     "tableResultSettingsMap": {},
     "title": ""
    }
   },
   "outputs": [
    {
     "output_type": "stream",
     "name": "stdout",
     "output_type": "stream",
     "text": [
      "+--------------------+------------+--------+----+\n|        product_name|sub_category|   sales|Rank|\n+--------------------+------------+--------+----+\n|Logitech G19 Prog...| Accessories|13756.54|   1|\n|Logitech P710e Mo...| Accessories|11203.76|   2|\n|Plantronics CS510...| Accessories|10822.36|   3|\n|Honeywell Envirac...|  Appliances|11304.44|   1|\n|Hoover Upright Va...|  Appliances| 6832.91|   2|\n|Sanyo Counter Hei...|  Appliances| 5906.52|   3|\n|Hunt PowerHouse E...|         Art| 1617.95|   1|\n|Boston Heavy-Duty...|         Art| 1166.44|   2|\n|Hunt BOSTON Model...|         Art| 1113.02|   3|\n|Fellowes PB500 El...|     Binders|27453.38|   1|\n|GBC DocuBind TL30...|     Binders|19823.48|   2|\n|GBC Ibimaster 500...|     Binders|19024.50|   3|\n|Riverside Palais ...|   Bookcases|15610.97|   1|\n|DMI Eclipse Execu...|   Bookcases|12921.64|   2|\n|Atlantic Metals M...|   Bookcases| 7539.71|   3|\n|HON 5400 Series T...|      Chairs|21870.57|   1|\n|Global Troy Execu...|      Chairs|12975.39|   2|\n|SAFCO Arco Foldin...|      Chairs|11572.78|   3|\n|Canon imageCLASS ...|     Copiers|61599.83|   1|\n|Hewlett Packard L...|     Copiers|18839.68|   2|\n+--------------------+------------+--------+----+\nonly showing top 20 rows\n\n"
     ]
    }
   ],
   "source": [
    "#Q18.Top 3 products sales by each sub_category\n",
    "Q18 = spark.sql(\"SELECT product_name,sub_category,sum(sales)as sales,Rank from(SELECT product_name,sub_category,rank() OVER (PARTITION BY sub_category ORDER BY sum(sales) DESC) as Rank,sum(sales)as sales from sales_view GROUP BY ALL) where Rank<=3 GROUP BY ALL \")\n",
    "Q18.show()"
   ]
  },
  {
   "cell_type": "code",
   "execution_count": 0,
   "metadata": {
    "application/vnd.databricks.v1+cell": {
     "cellMetadata": {
      "byteLimit": 2048000,
      "rowLimit": 10000
     },
     "inputWidgets": {},
     "nuid": "b3a5a966-b637-4d40-b912-9a1a4b2c5c71",
     "showTitle": false,
     "tableResultSettingsMap": {},
     "title": ""
    }
   },
   "outputs": [
    {
     "output_type": "stream",
     "name": "stdout",
     "output_type": "stream",
     "text": [
      "+--------------+--------------+\n|     ship_mode|Customer_Count|\n+--------------+--------------+\n|Standard Class|           751|\n|  Second Class|           541|\n|   First Class|           497|\n|      Same Day|           236|\n+--------------+--------------+\n\n"
     ]
    }
   ],
   "source": [
    "#Q19.Preferred ship mode by customer\n",
    "Q19 = spark.sql(\"SELECT ship_mode,approx_count_distinct(customer_id)as Customer_Count from sales_view GROUP BY ALL order by Customer_Count DESC \")\n",
    "Q19.show()\n"
   ]
  },
  {
   "cell_type": "code",
   "execution_count": 0,
   "metadata": {
    "application/vnd.databricks.v1+cell": {
     "cellMetadata": {
      "byteLimit": 2048000,
      "rowLimit": 10000
     },
     "inputWidgets": {},
     "nuid": "1f791515-0a83-479f-809a-0991c9aa09b7",
     "showTitle": false,
     "tableResultSettingsMap": {},
     "title": ""
    }
   },
   "outputs": [
    {
     "output_type": "stream",
     "name": "stdout",
     "output_type": "stream",
     "text": [
      "+---------------+--------+\n|  customer_name|   Sales|\n+---------------+--------+\n|   Raymond Buch|14203.28|\n|   Tom Ashbrook|13723.50|\n|   Hunter Lopez|10522.55|\n|    Seth Vernon| 8459.93|\n| Grant Thornton| 8167.42|\n|Helen Wasserman| 8166.35|\n|   Todd Sumrall| 6702.29|\n|    Rick Wilson| 6193.45|\n|      Pete Kriz| 5979.13|\n| Karen Ferguson| 5825.46|\n+---------------+--------+\n\n"
     ]
    }
   ],
   "source": [
    "#Q20.Top 10 customers for the year 2017\n",
    "Q20 = spark.sql(\"SELECT customer_name,sum(sales) as Sales from sales_view where year(order_date)='2017' GROUP BY ALL order by Sales DESC limit 10\")\n",
    "Q20.show()"
   ]
  }
 ],
 "metadata": {
  "application/vnd.databricks.v1+notebook": {
   "dashboards": [],
   "environmentMetadata": null,
   "language": "python",
   "notebookMetadata": {
    "pythonIndentUnit": 4
   },
   "notebookName": "Dmart Analysis",
   "widgets": {}
  }
 },
 "nbformat": 4,
 "nbformat_minor": 0
}
